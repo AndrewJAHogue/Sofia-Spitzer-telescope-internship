{
 "cells": [
  {
   "cell_type": "code",
   "execution_count": 2,
   "metadata": {},
   "outputs": [],
   "source": [
    "\n",
    "import numpy as np\n",
    "import matplotlib.pyplot as plt\n",
    "from astropy.io import fits\n",
    "from astropy.wcs import WCS\n",
    "from astropy.coordinates import Galactic\n",
    "\n",
    "Forcast25_isoField1 = fits.open(\"/media/al-linux/USB20FD/Python/Research/fits/Forcast25_isoField1.fits\")\n",
    "Spitzer24_IsoFields = fits.open(\"/media/al-linux/USB20FD/Python/Research/fits/Spitzer24_IsoFields.fits\")\n",
    "\n",
    "# masked_hdu1 = fits.open(\"fits/datamasked Spitzer24_isofields @ Forcast25_isofields1.fits\")[0]\n",
    "# masked_hdu2 = fits.open(\"fits/datamasked Spitzer24_isofields @ Forcast25_isofields1.fits\")[0]\n",
    "\n",
    "spits_iso_hdu = Spitzer24_IsoFields[0]\n",
    "Forcast25_1=Forcast25_isoField1[0]"
   ]
  },
  {
   "cell_type": "code",
   "execution_count": 4,
   "metadata": {},
   "outputs": [
    {
     "data": {
      "text/plain": [
       "SIMPLE  =                    T / conforms to FITS standard                      \n",
       "BITPIX  =                  -64 / array data type                                \n",
       "NAXIS   =                    2 / number of array dimensions                     \n",
       "NAXIS1  =                  651                                                  \n",
       "NAXIS2  =                  651                                                  \n",
       "WCSAXES =                    2 / Number of coordinate axes                      \n",
       "CRPIX1  =      -512.3109066568 / Pixel coordinate of reference point            \n",
       "CRPIX2  =      2754.2655746733 / Pixel coordinate of reference point            \n",
       "CDELT1  =   -0.000213333335188 / [deg] Coordinate increment at reference point  \n",
       "CDELT2  =    0.000213333335188 / [deg] Coordinate increment at reference point  \n",
       "CUNIT1  = 'deg'                / Units of coordinate increment and value        \n",
       "CUNIT2  = 'deg'                / Units of coordinate increment and value        \n",
       "CTYPE1  = 'RA---TAN'           / Right ascension, gnomonic projection           \n",
       "CTYPE2  = 'DEC--TAN'           / Declination, gnomonic projection               \n",
       "CRVAL1  =           266.455978 / [deg] Coordinate value at reference point      \n",
       "CRVAL2  =           -28.759584 / [deg] Coordinate value at reference point      \n",
       "LONPOLE =                180.0 / [deg] Native longitude of celestial pole       \n",
       "LATPOLE =           -28.759584 / [deg] Native latitude of celestial pole        \n",
       "MJDREF  =                  0.0 / [d] MJD of fiducial time                       \n",
       "DATE-OBS= '2015-07-04T09:09:14.15' / ISO-8601 time of observation               \n",
       "MJD-OBS =      57207.381413773 / [d] MJD of observation                         \n",
       "RADESYS = 'FK5'                / Equatorial coordinate system                   \n",
       "EQUINOX =               2000.0 / [yr] Equinox of equatorial coordinates         "
      ]
     },
     "execution_count": 4,
     "metadata": {},
     "output_type": "execute_result"
    }
   ],
   "source": [
    "Forcast25_1.header"
   ]
  }
 ],
 "metadata": {
  "interpreter": {
   "hash": "e7370f93d1d0cde622a1f8e1c04877d8463912d04d973331ad4851f04de6915a"
  },
  "kernelspec": {
   "display_name": "Python 3.8.10 64-bit",
   "language": "python",
   "name": "python3"
  },
  "language_info": {
   "codemirror_mode": {
    "name": "ipython",
    "version": 3
   },
   "file_extension": ".py",
   "mimetype": "text/x-python",
   "name": "python",
   "nbconvert_exporter": "python",
   "pygments_lexer": "ipython3",
   "version": "3.8.10"
  },
  "orig_nbformat": 4
 },
 "nbformat": 4,
 "nbformat_minor": 2
}
